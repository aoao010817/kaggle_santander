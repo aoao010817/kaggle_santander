{
 "cells": [
  {
   "cell_type": "code",
   "execution_count": 2,
   "metadata": {},
   "outputs": [],
   "source": [
    "import pandas as pd\n",
    "import numpy as np\n",
    "import xgboost as xgb\n",
    "\n",
    "np.random.seed(2018)"
   ]
  },
  {
   "cell_type": "code",
   "execution_count": 27,
   "metadata": {},
   "outputs": [
    {
     "name": "stderr",
     "output_type": "stream",
     "text": [
      "/var/folders/yx/5tk14qzj4n59c7c0rpmfb5qr0000gn/T/ipykernel_20677/2781771228.py:1: DtypeWarning: Columns (5,8,11,15) have mixed types. Specify dtype option on import or set low_memory=False.\n",
      "  trn = pd.read_csv(\"../dataset/train_ver2.csv\")\n",
      "/var/folders/yx/5tk14qzj4n59c7c0rpmfb5qr0000gn/T/ipykernel_20677/2781771228.py:2: DtypeWarning: Columns (15) have mixed types. Specify dtype option on import or set low_memory=False.\n",
      "  tst = pd.read_csv(\"../dataset/test_ver2.csv\")\n"
     ]
    }
   ],
   "source": [
    "trn = pd.read_csv(\"../dataset/train_ver2.csv\")\n",
    "tst = pd.read_csv(\"../dataset/test_ver2.csv\")"
   ]
  },
  {
   "cell_type": "code",
   "execution_count": 28,
   "metadata": {},
   "outputs": [],
   "source": [
    "## データの前処理\n",
    "\n",
    "prods = trn.columns[24:].tolist()\n",
    "trn[prods] = trn[prods].fillna(0.0).astype(np.int8)\n",
    "\n",
    "no_product = trn[prods].sum(axis=1) == 0\n",
    "trn = trn[~no_product]\n",
    "\n",
    "for col in trn.columns[24:]:\n",
    "    tst[col] = 0\n",
    "df = pd.concat([trn, tst], axis=0)\n",
    "\n",
    "features = []\n",
    "\n",
    "categorical_cols = [\"ind_empleado\", \"pais_residencia\", \"sexo\", \"tiprel_1mes\", \"indresi\", \"indext\", \"conyuemp\", \"canal_entrada\", \"indfall\", \"tipodom\", \"nomprov\", \"segmento\"]\n",
    "for col in categorical_cols:\n",
    "    df[col], _ = df[col].factorize(na_sentinel=-99)\n",
    "features += categorical_cols"
   ]
  },
  {
   "cell_type": "code",
   "execution_count": 29,
   "metadata": {},
   "outputs": [
    {
     "data": {
      "text/plain": [
       "array([ 35,  23,  22,  24,  65,  28,  25,  26,  53,  27,  32,  37,  31,\n",
       "        39,  63,  33,  55,  42,  58,  38,  50,  30,  45,  44,  36,  29,\n",
       "        60,  57,  67,  47, -99,  34,  48,  46,  54,  84,  15,  12,   8,\n",
       "         6,  83,  40,  77,  69,  52,  59,  43,  10,   9,  49,  41,  51,\n",
       "        78,  16,  11,  73,  62,  66,  17,  68,  82,  95,  96,  56,  61,\n",
       "        79,  14,  19,  13,  86,  64,  20,  72,  89,  71,   7,  70,  74,\n",
       "        21,  18,  75,   4,  80,  81,   5,  76,  92,  93,  85,  91,  87,\n",
       "        90,  94,  99,  98,  88,  97, 100, 101, 106, 103,   3,   2, 102,\n",
       "       104, 111, 107, 109, 105, 112, 115, 110, 116, 108, 113], dtype=int8)"
      ]
     },
     "metadata": {},
     "output_type": "display_data"
    }
   ],
   "source": [
    "df[\"age\"] = df[\"age\"].str.replace(\" \", \"\")\n",
    "df[\"age\"] = df[\"age\"].replace(\"NA\", -99)\n",
    "df[\"age\"] = df[\"age\"].fillna(-99)\n",
    "df[\"age\"] = df[\"age\"].astype(np.int8)\n",
    "display(df[\"age\"].unique())"
   ]
  },
  {
   "cell_type": "code",
   "execution_count": 30,
   "metadata": {},
   "outputs": [
    {
     "data": {
      "text/plain": [
       "array([   6,   35,   34,  -99,   33,   31,   21,   16,   27,    9,   22,\n",
       "         13,   29,    8,   11,   10,   28,   24,    7,   25,   14,   12,\n",
       "         26,   23,    1,   18,    4,    3,   17,   32,   20,   15,   30,\n",
       "         19,   36,   40,   38,   37,   39,    0,    5,   47,   44,   42,\n",
       "         46,   45,   43,   41,   57,   48,   52,   49,   50,   56,   58,\n",
       "         51,   55,   54,   53,   59,   62,   61,   60,   63,    2, -117,\n",
       "        -91,  118,  -92,   94,  -97, -113,  105, -105,  -94, -119, -106,\n",
       "       -128,  122, -100,  119,  -96,   79,   95, -124,  -95,   98,  127,\n",
       "         72, -101,  108,  -93,  102, -108,  115, -110,  107,   81,  -40,\n",
       "       -121,   92,  121,  -58, -122,   93, -116,  110,  120, -109,   64,\n",
       "         77,   85,   99,   78,  100,  113, -102,  -90,  124, -115,   66,\n",
       "        117,   86,  -63,   80, -112,   87,  126,  -98,  101,  116,  -21,\n",
       "         88, -111,  103, -107,  109, -125,   97, -123,   68,   84,  -24,\n",
       "        125,  -79,  112,   96,   69,  -85, -114,  -89,  104,   76,   82,\n",
       "       -104,   70, -118,  -87,   65, -127,  -66,  114,  111,  -80, -103,\n",
       "         89, -120,   83,  123,  -69,  106,  -25,  -67,  -39,  -84,  -57,\n",
       "        -83,  -82,  -47,  -76,  -78,  -88, -126,  -31,   67,   73,  -73,\n",
       "         74,  -50,   71,  -72,  -64,   91,   90,  -62,  -74,  -68,  -43,\n",
       "        -71,  -61,  -70,  -49,  -48,   75,  -81,  -55,  -53,  -44,  -41,\n",
       "        -86,  -28,  -42,  -54,  -60,  -75,  -45,  -65,  -51,  -56,  -29,\n",
       "        -38,  -37,  -30,  -77,  -32,  -46,  -14,  -33,  -19,  -52,  -23,\n",
       "        -36,  -34,  -15,  -59,  -35,  -27,  -22,  -16,  -13,  -26,  -18,\n",
       "        -10,  -20,  -12,  -17,  -11], dtype=int8)"
      ]
     },
     "metadata": {},
     "output_type": "display_data"
    }
   ],
   "source": [
    "df[\"antiguedad\"] = df[\"antiguedad\"].str.replace(\" \", \"\")\n",
    "df[\"antiguedad\"] = df[\"antiguedad\"].replace(\"NA\", -99)\n",
    "df[\"antiguedad\"] = df[\"antiguedad\"].fillna(-99)\n",
    "df[\"antiguedad\"] = df[\"antiguedad\"].astype(np.int8)\n",
    "display(df[\"antiguedad\"].unique())"
   ]
  },
  {
   "cell_type": "code",
   "execution_count": 35,
   "metadata": {},
   "outputs": [
    {
     "data": {
      "text/plain": [
       "array([ -99,  -20,  -78, -123, -117,  -30,  -97,  109,  -74,  -62,   62,\n",
       "         45,   78,  -94,    2,  -72,  -38,  -12,  -43,   30, -121,  117,\n",
       "       -122,  120,   44,  110,  -89,   64,   76,  -18,  -73,  116, -128,\n",
       "       -113,  -95,   83,   -1,   31,  -37,  100,  104,  -46,  -55,   25,\n",
       "        -44, -106,  -84,  -11,  108,   90,  -87,   61,  -49,   96,   39,\n",
       "         26,  -90,   73, -110,   -7,   15,  -24, -105,   37,  107,   -4,\n",
       "         69,   81,   19,   97,  -29,   72,   41,   75,  -40,    1,   77,\n",
       "        -79,   14,  127,  -67,  106,   53,   87,  126,  103,  -86,   35,\n",
       "         94, -108,    7,   55,   65,  101,   99,  -36,   12, -102,  102,\n",
       "         50, -114,  -76,  -85, -116,  113,  115,   92,   43,   -3,   68,\n",
       "        -88, -119,   84,   28,   17,   52, -126,   -9,   82,   23,  111,\n",
       "          4,   11,  -51,   88,  -68, -109,  114,  -39,   13,  -48,  -16,\n",
       "        118,   91,   86,   33,   48,   67,  -14,   66,   49,  122,   -6,\n",
       "         20,   -5,  -56,  -25,   98,  -64,  -47,  -70, -100,   59,   10,\n",
       "        -10,   40,  -45,  112,   46,   27, -125, -104,   93,   21,  121,\n",
       "        -13,   56,    0,   22,  -77,  124,  -59,  -50,  -22,  -58,    8,\n",
       "          9,   24,  -31, -124,   -2,  -53,   38,  119,   60,  -26,  -15,\n",
       "       -111,  -27,  -96,    3,  -57,  -75,   34,   -8,  -66,  -91,  -54,\n",
       "          6,   18,   47,   42,   16,  -21,  -41,   79,  -42,   95,  -71,\n",
       "        123,  -81,  -52,   85,   51,   32,   71,  -23,   57,  -80,   80,\n",
       "        -34,  -82,   54,  -83,   58,  -60,  -28,  -63,  -65, -118,   74,\n",
       "        -33,   89,  -35,  -32,  -61, -101,   70, -107, -120,   29,   36,\n",
       "        105,  125, -103, -112,   63,  -93,  -69, -115,  -17, -127,  -98,\n",
       "        -19,    5,  -92], dtype=int8)"
      ]
     },
     "metadata": {},
     "output_type": "display_data"
    }
   ],
   "source": [
    "df[\"renta\"] = df[\"renta\"].str.replace(\" \", \"\")\n",
    "df[\"renta\"] = df[\"renta\"].replace(\"NA\", -99)\n",
    "df[\"renta\"] = df[\"renta\"].fillna(-99)\n",
    "df[\"renta\"] = df[\"renta\"].astype(float).astype(np.int8)\n",
    "display(df[\"renta\"].unique())"
   ]
  },
  {
   "cell_type": "code",
   "execution_count": 41,
   "metadata": {},
   "outputs": [
    {
     "data": {
      "text/plain": [
       "array([  1, -99,   3,   2,   5,   4], dtype=int8)"
      ]
     },
     "metadata": {},
     "output_type": "display_data"
    }
   ],
   "source": [
    "df = df.copy()\n",
    "df[\"indrel_1mes\"] = df[\"indrel_1mes\"].replace(\"P\", 5)\n",
    "df[\"indrel_1mes\"] = df[\"indrel_1mes\"].fillna(-99)\n",
    "df[\"indrel_1mes\"] = df[\"indrel_1mes\"].astype(float).astype(np.int8)\n",
    "display(df[\"indrel_1mes\"].unique())\n",
    "features += [\"age\", \"antiguedad\", \"renta\", \"ind_nuevo\", \"indrel\", \"indrel_1mes\", \"ind_actividad_cliente\"]"
   ]
  },
  {
   "cell_type": "code",
   "execution_count": 42,
   "metadata": {},
   "outputs": [],
   "source": [
    "df[\"fecha_alta_month\"] = df[\"fecha_alta\"].map(lambda x: 0.0 if x.__class__ is float else float(x.split(\"-\")[1])).astype(np.int8)\n",
    "df[\"fecha_alta_year\"] = df[\"fecha_alta\"].map(lambda x: 0.0 if x.__class__ is float else float(x.split(\"-\")[0])).astype(np.int16)\n",
    "features += [\"fecha_alta_month\", \"fecha_alta_year\"]"
   ]
  },
  {
   "cell_type": "code",
   "execution_count": 43,
   "metadata": {},
   "outputs": [],
   "source": [
    "df[\"ult_fec_cli_1t_month\"] = df[\"ult_fec_cli_1t\"].map(lambda x: 0.0 if x.__class__ is float else float(x.split(\"-\")[1])).astype(np.int8)\n",
    "df[\"ult_fec_cli_1t_year\"] = df[\"ult_fec_cli_1t\"].map(lambda x: 0.0 if x.__class__ is float else float(x.split(\"-\")[0])).astype(np.int16)\n",
    "features += [\"ult_fec_cli_1t_month\", \"ult_fec_cli_1t_year\"]"
   ]
  },
  {
   "cell_type": "code",
   "execution_count": 44,
   "metadata": {},
   "outputs": [
    {
     "ename": "KeyError",
     "evalue": "'int_date'",
     "output_type": "error",
     "traceback": [
      "\u001b[0;31m---------------------------------------------------------------------------\u001b[0m",
      "\u001b[0;31mKeyError\u001b[0m                                  Traceback (most recent call last)",
      "File \u001b[0;32m~/.pyenv/versions/3.9.4/lib/python3.9/site-packages/pandas/core/indexes/base.py:3621\u001b[0m, in \u001b[0;36mIndex.get_loc\u001b[0;34m(self, key, method, tolerance)\u001b[0m\n\u001b[1;32m   <a href='file:///Users/aoisato/.pyenv/versions/3.9.4/lib/python3.9/site-packages/pandas/core/indexes/base.py?line=3619'>3620</a>\u001b[0m \u001b[39mtry\u001b[39;00m:\n\u001b[0;32m-> <a href='file:///Users/aoisato/.pyenv/versions/3.9.4/lib/python3.9/site-packages/pandas/core/indexes/base.py?line=3620'>3621</a>\u001b[0m     \u001b[39mreturn\u001b[39;00m \u001b[39mself\u001b[39;49m\u001b[39m.\u001b[39;49m_engine\u001b[39m.\u001b[39;49mget_loc(casted_key)\n\u001b[1;32m   <a href='file:///Users/aoisato/.pyenv/versions/3.9.4/lib/python3.9/site-packages/pandas/core/indexes/base.py?line=3621'>3622</a>\u001b[0m \u001b[39mexcept\u001b[39;00m \u001b[39mKeyError\u001b[39;00m \u001b[39mas\u001b[39;00m err:\n",
      "File \u001b[0;32mpandas/_libs/index.pyx:136\u001b[0m, in \u001b[0;36mpandas._libs.index.IndexEngine.get_loc\u001b[0;34m()\u001b[0m\n",
      "File \u001b[0;32mpandas/_libs/index.pyx:163\u001b[0m, in \u001b[0;36mpandas._libs.index.IndexEngine.get_loc\u001b[0;34m()\u001b[0m\n",
      "File \u001b[0;32mpandas/_libs/hashtable_class_helper.pxi:5198\u001b[0m, in \u001b[0;36mpandas._libs.hashtable.PyObjectHashTable.get_item\u001b[0;34m()\u001b[0m\n",
      "File \u001b[0;32mpandas/_libs/hashtable_class_helper.pxi:5206\u001b[0m, in \u001b[0;36mpandas._libs.hashtable.PyObjectHashTable.get_item\u001b[0;34m()\u001b[0m\n",
      "\u001b[0;31mKeyError\u001b[0m: 'int_date'",
      "\nThe above exception was the direct cause of the following exception:\n",
      "\u001b[0;31mKeyError\u001b[0m                                  Traceback (most recent call last)",
      "\u001b[1;32m/Users/aoisato/Desktop/python/src/kaggle/santander/src/baseline.ipynb Cell 10'\u001b[0m in \u001b[0;36m<cell line: 12>\u001b[0;34m()\u001b[0m\n\u001b[1;32m     <a href='vscode-notebook-cell:/Users/aoisato/Desktop/python/src/kaggle/santander/src/baseline.ipynb#ch0000001?line=9'>10</a>\u001b[0m df_lag \u001b[39m=\u001b[39m df\u001b[39m.\u001b[39mcopy()\n\u001b[1;32m     <a href='vscode-notebook-cell:/Users/aoisato/Desktop/python/src/kaggle/santander/src/baseline.ipynb#ch0000001?line=10'>11</a>\u001b[0m df_lag\u001b[39m.\u001b[39mcolumns \u001b[39m=\u001b[39m [col \u001b[39m+\u001b[39m \u001b[39m\"\u001b[39m\u001b[39m_prev\u001b[39m\u001b[39m\"\u001b[39m \u001b[39mif\u001b[39;00m col \u001b[39mnot\u001b[39;00m \u001b[39min\u001b[39;00m [\u001b[39m\"\u001b[39m\u001b[39mncodpers\u001b[39m\u001b[39m\"\u001b[39m, \u001b[39m\"\u001b[39m\u001b[39mint_date\u001b[39m\u001b[39m\"\u001b[39m] \u001b[39melse\u001b[39;00m col \u001b[39mfor\u001b[39;00m col \u001b[39min\u001b[39;00m df\u001b[39m.\u001b[39mcolumns]\n\u001b[0;32m---> <a href='vscode-notebook-cell:/Users/aoisato/Desktop/python/src/kaggle/santander/src/baseline.ipynb#ch0000001?line=11'>12</a>\u001b[0m df_lag[\u001b[39m\"\u001b[39m\u001b[39mint_date\u001b[39m\u001b[39m\"\u001b[39m] \u001b[39m+\u001b[39m\u001b[39m=\u001b[39m \u001b[39m1\u001b[39m\n\u001b[1;32m     <a href='vscode-notebook-cell:/Users/aoisato/Desktop/python/src/kaggle/santander/src/baseline.ipynb#ch0000001?line=13'>14</a>\u001b[0m df_trn \u001b[39m=\u001b[39m df\u001b[39m.\u001b[39mmerge(df_lag, on\u001b[39m=\u001b[39m[\u001b[39m\"\u001b[39m\u001b[39mncodepers\u001b[39m\u001b[39m\"\u001b[39m, \u001b[39m\"\u001b[39m\u001b[39mint_date\u001b[39m\u001b[39m\"\u001b[39m], how\u001b[39m=\u001b[39m\u001b[39m\"\u001b[39m\u001b[39mleft\u001b[39m\u001b[39m\"\u001b[39m)\n\u001b[1;32m     <a href='vscode-notebook-cell:/Users/aoisato/Desktop/python/src/kaggle/santander/src/baseline.ipynb#ch0000001?line=15'>16</a>\u001b[0m \u001b[39mdel\u001b[39;00m df, df_lag\n",
      "File \u001b[0;32m~/.pyenv/versions/3.9.4/lib/python3.9/site-packages/pandas/core/frame.py:3505\u001b[0m, in \u001b[0;36mDataFrame.__getitem__\u001b[0;34m(self, key)\u001b[0m\n\u001b[1;32m   <a href='file:///Users/aoisato/.pyenv/versions/3.9.4/lib/python3.9/site-packages/pandas/core/frame.py?line=3502'>3503</a>\u001b[0m \u001b[39mif\u001b[39;00m \u001b[39mself\u001b[39m\u001b[39m.\u001b[39mcolumns\u001b[39m.\u001b[39mnlevels \u001b[39m>\u001b[39m \u001b[39m1\u001b[39m:\n\u001b[1;32m   <a href='file:///Users/aoisato/.pyenv/versions/3.9.4/lib/python3.9/site-packages/pandas/core/frame.py?line=3503'>3504</a>\u001b[0m     \u001b[39mreturn\u001b[39;00m \u001b[39mself\u001b[39m\u001b[39m.\u001b[39m_getitem_multilevel(key)\n\u001b[0;32m-> <a href='file:///Users/aoisato/.pyenv/versions/3.9.4/lib/python3.9/site-packages/pandas/core/frame.py?line=3504'>3505</a>\u001b[0m indexer \u001b[39m=\u001b[39m \u001b[39mself\u001b[39;49m\u001b[39m.\u001b[39;49mcolumns\u001b[39m.\u001b[39;49mget_loc(key)\n\u001b[1;32m   <a href='file:///Users/aoisato/.pyenv/versions/3.9.4/lib/python3.9/site-packages/pandas/core/frame.py?line=3505'>3506</a>\u001b[0m \u001b[39mif\u001b[39;00m is_integer(indexer):\n\u001b[1;32m   <a href='file:///Users/aoisato/.pyenv/versions/3.9.4/lib/python3.9/site-packages/pandas/core/frame.py?line=3506'>3507</a>\u001b[0m     indexer \u001b[39m=\u001b[39m [indexer]\n",
      "File \u001b[0;32m~/.pyenv/versions/3.9.4/lib/python3.9/site-packages/pandas/core/indexes/base.py:3623\u001b[0m, in \u001b[0;36mIndex.get_loc\u001b[0;34m(self, key, method, tolerance)\u001b[0m\n\u001b[1;32m   <a href='file:///Users/aoisato/.pyenv/versions/3.9.4/lib/python3.9/site-packages/pandas/core/indexes/base.py?line=3620'>3621</a>\u001b[0m     \u001b[39mreturn\u001b[39;00m \u001b[39mself\u001b[39m\u001b[39m.\u001b[39m_engine\u001b[39m.\u001b[39mget_loc(casted_key)\n\u001b[1;32m   <a href='file:///Users/aoisato/.pyenv/versions/3.9.4/lib/python3.9/site-packages/pandas/core/indexes/base.py?line=3621'>3622</a>\u001b[0m \u001b[39mexcept\u001b[39;00m \u001b[39mKeyError\u001b[39;00m \u001b[39mas\u001b[39;00m err:\n\u001b[0;32m-> <a href='file:///Users/aoisato/.pyenv/versions/3.9.4/lib/python3.9/site-packages/pandas/core/indexes/base.py?line=3622'>3623</a>\u001b[0m     \u001b[39mraise\u001b[39;00m \u001b[39mKeyError\u001b[39;00m(key) \u001b[39mfrom\u001b[39;00m \u001b[39merr\u001b[39;00m\n\u001b[1;32m   <a href='file:///Users/aoisato/.pyenv/versions/3.9.4/lib/python3.9/site-packages/pandas/core/indexes/base.py?line=3623'>3624</a>\u001b[0m \u001b[39mexcept\u001b[39;00m \u001b[39mTypeError\u001b[39;00m:\n\u001b[1;32m   <a href='file:///Users/aoisato/.pyenv/versions/3.9.4/lib/python3.9/site-packages/pandas/core/indexes/base.py?line=3624'>3625</a>\u001b[0m     \u001b[39m# If we have a listlike key, _check_indexing_error will raise\u001b[39;00m\n\u001b[1;32m   <a href='file:///Users/aoisato/.pyenv/versions/3.9.4/lib/python3.9/site-packages/pandas/core/indexes/base.py?line=3625'>3626</a>\u001b[0m     \u001b[39m#  InvalidIndexError. Otherwise we fall through and re-raise\u001b[39;00m\n\u001b[1;32m   <a href='file:///Users/aoisato/.pyenv/versions/3.9.4/lib/python3.9/site-packages/pandas/core/indexes/base.py?line=3626'>3627</a>\u001b[0m     \u001b[39m#  the TypeError.\u001b[39;00m\n\u001b[1;32m   <a href='file:///Users/aoisato/.pyenv/versions/3.9.4/lib/python3.9/site-packages/pandas/core/indexes/base.py?line=3627'>3628</a>\u001b[0m     \u001b[39mself\u001b[39m\u001b[39m.\u001b[39m_check_indexing_error(key)\n",
      "\u001b[0;31mKeyError\u001b[0m: 'int_date'"
     ]
    }
   ],
   "source": [
    "df.fillna(-99, inplace=True)\n",
    "\n",
    "def date_to_int(str_date):\n",
    "    Y, M, D = [int(a) for a in str_date.strip().split(\"-\")]\n",
    "    int_date = (int(Y) - 2015) * 12 * int(M)\n",
    "    return int_date\n",
    "\n",
    "trn[\"int_date\"] = trn[\"fecha_dato\"].map(date_to_int).astype(np.int8)\n",
    "\n",
    "df_lag = df.copy()\n",
    "df_lag.columns = [col + \"_prev\" if col not in [\"ncodpers\", \"int_date\"] else col for col in df.columns]\n",
    "df_lag[\"int_date\"] += 1\n",
    "\n",
    "df_trn = df.merge(df_lag, on=[\"ncodepers\", \"int_date\"], how=\"left\")\n",
    "\n",
    "del df, df_lag\n",
    "\n",
    "for prod in prods:\n",
    "    prev = prod + \"_prev\"\n",
    "    df_trn[prev].fillna(0, inplace=True)\n",
    "df_trn.fillna(-99, inplace=True)\n",
    "\n",
    "features += [feature + \"_prev\" for feature in features]\n",
    "features += [prod + \"_prev\" for prod in prods]"
   ]
  },
  {
   "cell_type": "code",
   "execution_count": null,
   "metadata": {},
   "outputs": [],
   "source": [
    "## モデル学習\n",
    "\n",
    "use_dates = [\"2016-01-28\", \"2016-02-28\", \"2016-03-28\", \"2016-04-28\"]\n",
    "trn = df_trn[df_trn[\"fecha_dato\"].isin(use_dates)]\n",
    "tst = df_trn[df_trn[\"fecha_dato\"] == \"2016-05-28\"]\n",
    "\n",
    "del df_trn\n",
    "\n",
    "X = []\n",
    "Y = []\n",
    "for i, prod in enumarate(prods):\n",
    "    prev = prod + \"_prev\"\n",
    "    prX = trn[(trn[prod] == 1) & (trn[prev] == 0)]\n",
    "    prY = np.zeros(prX.shape[0], dtype=np.int8) + i\n",
    "    X.append(prX)\n",
    "    Y.append(prY)\n",
    "XY = pd.concat(X)\n",
    "Y = np.hstack(Y)\n",
    "XY[\"y\"] = Y\n",
    "\n",
    "vld_date = XY[XY[\"fecha_dato\"] != vld_date]\n",
    "vld_vld = XY[XY[\"fecha_dato\"] == vld_date]\n",
    "\n",
    "param = {\n",
    "    \"booster\": \"gbtree\",\n",
    "    \"max_depth\": 8,\n",
    "    \"nthread\": 4,\n",
    "    \"num_class\": len(prods),\n",
    "    \"objective\": \"multi:softprob\",\n",
    "    \"silent\": 1,\n",
    "    \"eval_metric\": \"mlogloss\",\n",
    "    \"eta\": 0.1,\n",
    "    \"min_child_weight\": 10,\n",
    "    \"colsample_bytree\": 0.8,\n",
    "    \"colsample_bylevel\": 0.9,\n",
    "    \"seed\": 2018,\n",
    "}\n",
    "\n",
    "X_trn = XY_trn.as_matrix(columns=features)\n",
    "Y_trn = XY_trn.as_matrix(columns=[\"y\"])\n",
    "dtrn = xgb.DMatrix(X_trn, label=Y_trn, feature_names=features)\n",
    "\n",
    "X_vld = XY_vld.as_matrix(columns=features)\n",
    "Y_vld = XY_vld.as_matrix(columns=[\"y\"])\n",
    "dvld = xgb.DMatrix(X_vld, label=Y_vld, feature_names=features)\n",
    "\n",
    "watch_list = [(dtrn, \"train\"), (dvld, \"eval\")]\n",
    "model = xgb.train(param, dtrn, num_boost_round=1000, evals=watch_list, early_stopping_rounds=20)\n",
    "\n",
    "import pickle\n",
    "pickle.dump(model, open(\"model/xgb.baseline.pkl\", \"wb\"))\n",
    "best_ntree_limit = model.best_ntree_limit"
   ]
  }
 ],
 "metadata": {
  "interpreter": {
   "hash": "989a530189ec79b69b64ffeffa0e3a627b9289ae463a6727c53a09b2b1fcc69a"
  },
  "kernelspec": {
   "display_name": "Python 3.9.4 64-bit ('3.9.4')",
   "language": "python",
   "name": "python3"
  },
  "language_info": {
   "codemirror_mode": {
    "name": "ipython",
    "version": 3
   },
   "file_extension": ".py",
   "mimetype": "text/x-python",
   "name": "python",
   "nbconvert_exporter": "python",
   "pygments_lexer": "ipython3",
   "version": "3.9.4"
  },
  "orig_nbformat": 4
 },
 "nbformat": 4,
 "nbformat_minor": 2
}

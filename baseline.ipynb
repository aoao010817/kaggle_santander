{
 "cells": [
  {
   "cell_type": "code",
   "execution_count": 1,
   "metadata": {},
   "outputs": [],
   "source": [
    "import pandas as pd\n",
    "import numpy as np\n",
    "import xgboost as xgb\n",
    "import ml_metrics as metrics\n",
    "\n",
    "np.random.seed(2018)\n",
    "VLD_DATE = \"2016-05-28\""
   ]
  },
  {
   "cell_type": "code",
   "execution_count": 2,
   "metadata": {},
   "outputs": [
    {
     "name": "stderr",
     "output_type": "stream",
     "text": [
      "/var/folders/yx/5tk14qzj4n59c7c0rpmfb5qr0000gn/T/ipykernel_54262/2781771228.py:1: DtypeWarning: Columns (5,8,11,15) have mixed types. Specify dtype option on import or set low_memory=False.\n",
      "  trn = pd.read_csv(\"../dataset/train_ver2.csv\")\n",
      "/var/folders/yx/5tk14qzj4n59c7c0rpmfb5qr0000gn/T/ipykernel_54262/2781771228.py:2: DtypeWarning: Columns (15) have mixed types. Specify dtype option on import or set low_memory=False.\n",
      "  tst = pd.read_csv(\"../dataset/test_ver2.csv\")\n"
     ]
    }
   ],
   "source": [
    "trn = pd.read_csv(\"../dataset/train_ver2.csv\")\n",
    "tst = pd.read_csv(\"../dataset/test_ver2.csv\")"
   ]
  },
  {
   "cell_type": "code",
   "execution_count": 3,
   "metadata": {},
   "outputs": [],
   "source": [
    "## データの前処理\n",
    "\n",
    "prods = trn.columns[24:].tolist()\n",
    "trn[prods] = trn[prods].fillna(0.0).astype(np.int8)\n",
    "\n",
    "no_product = trn[prods].sum(axis=1) == 0\n",
    "trn = trn[~no_product]\n",
    "\n",
    "for col in trn.columns[24:]:\n",
    "    tst[col] = 0\n",
    "df = pd.concat([trn, tst], axis=0)\n",
    "\n",
    "features = []\n",
    "\n",
    "categorical_cols = [\"ind_empleado\", \"pais_residencia\", \"sexo\", \"tiprel_1mes\", \"indresi\", \"indext\", \"conyuemp\", \"canal_entrada\", \"indfall\", \"tipodom\", \"nomprov\", \"segmento\"]\n",
    "for col in categorical_cols:\n",
    "    df[col], _ = df[col].factorize(na_sentinel=-99)\n",
    "features += categorical_cols"
   ]
  },
  {
   "cell_type": "code",
   "execution_count": 4,
   "metadata": {},
   "outputs": [
    {
     "data": {
      "text/plain": [
       "array([ 35,  23,  22,  24,  65,  28,  25,  26,  53,  27,  32,  37,  31,\n",
       "        39,  63,  33,  55,  42,  58,  38,  50,  30,  45,  44,  36,  29,\n",
       "        60,  57,  67,  47, -99,  34,  48,  46,  54,  84,  15,  12,   8,\n",
       "         6,  83,  40,  77,  69,  52,  59,  43,  10,   9,  49,  41,  51,\n",
       "        78,  16,  11,  73,  62,  66,  17,  68,  82,  95,  96,  56,  61,\n",
       "        79,  14,  19,  13,  86,  64,  20,  72,  89,  71,   7,  70,  74,\n",
       "        21,  18,  75,   4,  80,  81,   5,  76,  92,  93,  85,  91,  87,\n",
       "        90,  94,  99,  98,  88,  97, 100, 101, 106, 103,   3,   2, 102,\n",
       "       104, 111, 107, 109, 105, 112, 115, 110, 116, 108, 113], dtype=int8)"
      ]
     },
     "metadata": {},
     "output_type": "display_data"
    }
   ],
   "source": [
    "df[\"age\"] = df[\"age\"].str.replace(\" \", \"\")\n",
    "df[\"age\"] = df[\"age\"].replace(\"NA\", -99)\n",
    "df[\"age\"] = df[\"age\"].fillna(-99)\n",
    "df[\"age\"] = df[\"age\"].astype(np.int8)\n",
    "display(df[\"age\"].unique())"
   ]
  },
  {
   "cell_type": "code",
   "execution_count": 5,
   "metadata": {},
   "outputs": [
    {
     "data": {
      "text/plain": [
       "array([   6,   35,   34,  -99,   33,   31,   21,   16,   27,    9,   22,\n",
       "         13,   29,    8,   11,   10,   28,   24,    7,   25,   14,   12,\n",
       "         26,   23,    1,   18,    4,    3,   17,   32,   20,   15,   30,\n",
       "         19,   36,   40,   38,   37,   39,    0,    5,   47,   44,   42,\n",
       "         46,   45,   43,   41,   57,   48,   52,   49,   50,   56,   58,\n",
       "         51,   55,   54,   53,   59,   62,   61,   60,   63,    2, -117,\n",
       "        -91,  118,  -92,   94,  -97, -113,  105, -105,  -94, -119, -106,\n",
       "       -128,  122, -100,  119,  -96,   79,   95, -124,  -95,   98,  127,\n",
       "         72, -101,  108,  -93,  102, -108,  115, -110,  107,   81,  -40,\n",
       "       -121,   92,  121,  -58, -122,   93, -116,  110,  120, -109,   64,\n",
       "         77,   85,   99,   78,  100,  113, -102,  -90,  124, -115,   66,\n",
       "        117,   86,  -63,   80, -112,   87,  126,  -98,  101,  116,  -21,\n",
       "         88, -111,  103, -107,  109, -125,   97, -123,   68,   84,  -24,\n",
       "        125,  -79,  112,   96,   69,  -85, -114,  -89,  104,   76,   82,\n",
       "       -104,   70, -118,  -87,   65, -127,  -66,  114,  111,  -80, -103,\n",
       "         89, -120,   83,  123,  -69,  106,  -25,  -67,  -39,  -84,  -57,\n",
       "        -83,  -82,  -47,  -76,  -78,  -88, -126,  -31,   67,   73,  -73,\n",
       "         74,  -50,   71,  -72,  -64,   91,   90,  -62,  -74,  -68,  -43,\n",
       "        -71,  -61,  -70,  -49,  -48,   75,  -81,  -55,  -53,  -44,  -41,\n",
       "        -86,  -28,  -42,  -54,  -60,  -75,  -45,  -65,  -51,  -56,  -29,\n",
       "        -38,  -37,  -30,  -77,  -32,  -46,  -14,  -33,  -19,  -52,  -23,\n",
       "        -36,  -34,  -15,  -59,  -35,  -27,  -22,  -16,  -13,  -26,  -18,\n",
       "        -10,  -20,  -12,  -17,  -11], dtype=int8)"
      ]
     },
     "metadata": {},
     "output_type": "display_data"
    }
   ],
   "source": [
    "df[\"antiguedad\"] = df[\"antiguedad\"].str.replace(\" \", \"\")\n",
    "df[\"antiguedad\"] = df[\"antiguedad\"].replace(\"NA\", -99)\n",
    "df[\"antiguedad\"] = df[\"antiguedad\"].fillna(-99)\n",
    "df[\"antiguedad\"] = df[\"antiguedad\"].astype(np.int8)\n",
    "display(df[\"antiguedad\"].unique())"
   ]
  },
  {
   "cell_type": "code",
   "execution_count": 6,
   "metadata": {},
   "outputs": [
    {
     "data": {
      "text/plain": [
       "array([ -99,  -20,  -78, -123, -117,  -30,  -97,  109,  -74,  -62,   62,\n",
       "         45,   78,  -94,    2,  -72,  -38,  -12,  -43,   30, -121,  117,\n",
       "       -122,  120,   44,  110,  -89,   64,   76,  -18,  -73,  116, -128,\n",
       "       -113,  -95,   83,   -1,   31,  -37,  100,  104,  -46,  -55,   25,\n",
       "        -44, -106,  -84,  -11,  108,   90,  -87,   61,  -49,   96,   39,\n",
       "         26,  -90,   73, -110,   -7,   15,  -24, -105,   37,  107,   -4,\n",
       "         69,   81,   19,   97,  -29,   72,   41,   75,  -40,    1,   77,\n",
       "        -79,   14,  127,  -67,  106,   53,   87,  126,  103,  -86,   35,\n",
       "         94, -108,    7,   55,   65,  101,   99,  -36,   12, -102,  102,\n",
       "         50, -114,  -76,  -85, -116,  113,  115,   92,   43,   -3,   68,\n",
       "        -88, -119,   84,   28,   17,   52, -126,   -9,   82,   23,  111,\n",
       "          4,   11,  -51,   88,  -68, -109,  114,  -39,   13,  -48,  -16,\n",
       "        118,   91,   86,   33,   48,   67,  -14,   66,   49,  122,   -6,\n",
       "         20,   -5,  -56,  -25,   98,  -64,  -47,  -70, -100,   59,   10,\n",
       "        -10,   40,  -45,  112,   46,   27, -125, -104,   93,   21,  121,\n",
       "        -13,   56,    0,   22,  -77,  124,  -59,  -50,  -22,  -58,    8,\n",
       "          9,   24,  -31, -124,   -2,  -53,   38,  119,   60,  -26,  -15,\n",
       "       -111,  -27,  -96,    3,  -57,  -75,   34,   -8,  -66,  -91,  -54,\n",
       "          6,   18,   47,   42,   16,  -21,  -41,   79,  -42,   95,  -71,\n",
       "        123,  -81,  -52,   85,   51,   32,   71,  -23,   57,  -80,   80,\n",
       "        -34,  -82,   54,  -83,   58,  -60,  -28,  -63,  -65, -118,   74,\n",
       "        -33,   89,  -35,  -32,  -61, -101,   70, -107, -120,   29,   36,\n",
       "        105,  125, -103, -112,   63,  -93,  -69, -115,  -17, -127,  -98,\n",
       "        -19,    5,  -92], dtype=int8)"
      ]
     },
     "metadata": {},
     "output_type": "display_data"
    }
   ],
   "source": [
    "df[\"renta\"] = df[\"renta\"].str.replace(\" \", \"\")\n",
    "df[\"renta\"] = df[\"renta\"].replace(\"NA\", -99)\n",
    "df[\"renta\"] = df[\"renta\"].fillna(-99)\n",
    "df[\"renta\"] = df[\"renta\"].astype(float).astype(np.int8)\n",
    "display(df[\"renta\"].unique())"
   ]
  },
  {
   "cell_type": "code",
   "execution_count": 7,
   "metadata": {},
   "outputs": [
    {
     "data": {
      "text/plain": [
       "array([  1, -99,   3,   2,   5,   4], dtype=int8)"
      ]
     },
     "metadata": {},
     "output_type": "display_data"
    }
   ],
   "source": [
    "df = df.copy()\n",
    "df[\"indrel_1mes\"] = df[\"indrel_1mes\"].replace(\"P\", 5)\n",
    "df[\"indrel_1mes\"] = df[\"indrel_1mes\"].fillna(-99)\n",
    "df[\"indrel_1mes\"] = df[\"indrel_1mes\"].astype(float).astype(np.int8)\n",
    "display(df[\"indrel_1mes\"].unique())\n",
    "features += [\"age\", \"antiguedad\", \"renta\", \"ind_nuevo\", \"indrel\", \"indrel_1mes\", \"ind_actividad_cliente\"]"
   ]
  },
  {
   "cell_type": "code",
   "execution_count": 8,
   "metadata": {},
   "outputs": [],
   "source": [
    "df[\"fecha_alta_month\"] = df[\"fecha_alta\"].map(lambda x: 0.0 if x.__class__ is float else float(x.split(\"-\")[1])).astype(np.int8)\n",
    "df[\"fecha_alta_year\"] = df[\"fecha_alta\"].map(lambda x: 0.0 if x.__class__ is float else float(x.split(\"-\")[0])).astype(np.int16)\n",
    "features += [\"fecha_alta_month\", \"fecha_alta_year\"]"
   ]
  },
  {
   "cell_type": "code",
   "execution_count": 9,
   "metadata": {},
   "outputs": [],
   "source": [
    "df[\"ult_fec_cli_1t_month\"] = df[\"ult_fec_cli_1t\"].map(lambda x: 0.0 if x.__class__ is float else float(x.split(\"-\")[1])).astype(np.int8)\n",
    "df[\"ult_fec_cli_1t_year\"] = df[\"ult_fec_cli_1t\"].map(lambda x: 0.0 if x.__class__ is float else float(x.split(\"-\")[0])).astype(np.int16)\n",
    "features += [\"ult_fec_cli_1t_month\", \"ult_fec_cli_1t_year\"]"
   ]
  },
  {
   "cell_type": "code",
   "execution_count": 10,
   "metadata": {},
   "outputs": [],
   "source": [
    "df.fillna(-99, inplace=True)\n",
    "\n",
    "def date_to_int(str_date):\n",
    "    Y, M, D = [int(a) for a in str_date.strip().split(\"-\")]\n",
    "    int_date = (int(Y) - 2015) * 12 * int(M)\n",
    "    return int_date\n",
    "\n",
    "df[\"int_date\"] = trn[\"fecha_dato\"].map(date_to_int).astype(np.int8)\n",
    "\n",
    "df_lag = df.copy()\n",
    "df_lag.columns = [col + \"_prev\" if col not in [\"ncodpers\", \"int_date\"] else col for col in df.columns]\n",
    "df_lag[\"int_date\"] += 1\n",
    "\n",
    "df_trn = df.merge(df_lag, on=[\"ncodpers\", \"int_date\"], how=\"left\")\n",
    "\n",
    "del df, df_lag\n",
    "\n",
    "for prod in prods:\n",
    "    prev = prod + \"_prev\"\n",
    "    df_trn[prev].fillna(0, inplace=True)\n",
    "df_trn.fillna(-99, inplace=True)\n",
    "\n",
    "features += [feature + \"_prev\" for feature in features]\n",
    "features += [prod + \"_prev\" for prod in prods]"
   ]
  },
  {
   "cell_type": "code",
   "execution_count": 11,
   "metadata": {},
   "outputs": [],
   "source": [
    "## モデル学習 交差検証\n",
    "\n",
    "use_dates = [\"2016-01-28\", \"2016-02-28\", \"2016-03-28\", \"2016-04-28\"]\n",
    "trn = df_trn[df_trn[\"fecha_dato\"].isin(use_dates)]\n",
    "tst = df_trn[df_trn[\"fecha_dato\"] == \"2016-05-28\"]\n",
    "\n",
    "del df_trn"
   ]
  },
  {
   "cell_type": "code",
   "execution_count": 12,
   "metadata": {},
   "outputs": [],
   "source": [
    "X = []\n",
    "Y = []\n",
    "for i, prod in enumerate(prods):\n",
    "    prev = prod + \"_prev\"\n",
    "    prX = trn[(trn[prod] == 1) & (trn[prev] == 0)]\n",
    "    prY = np.zeros(prX.shape[0], dtype=np.int8) + i\n",
    "    X.append(prX)\n",
    "    Y.append(prY)\n",
    "XY = pd.concat(X)\n",
    "Y = np.hstack(Y)\n",
    "XY[\"y\"] = Y\n",
    "\n",
    "XY_trn = XY[XY[\"fecha_dato\"] != VLD_DATE]\n",
    "XY_vld = XY[XY[\"fecha_dato\"] == VLD_DATE]"
   ]
  },
  {
   "cell_type": "code",
   "execution_count": 16,
   "metadata": {},
   "outputs": [
    {
     "name": "stdout",
     "output_type": "stream",
     "text": [
      "[12:42:27] WARNING: /Users/runner/work/xgboost/xgboost/python-package/build/temp.macosx-11.0-arm64-3.8/xgboost/src/learner.cc:627: \n",
      "Parameters: { \"silent\" } might not be used.\n",
      "\n",
      "  This could be a false alarm, with some parameters getting used by language bindings but\n",
      "  then being mistakenly passed down to XGBoost core, or some parameter actually being used\n",
      "  but getting flagged wrongly here. Please open an issue if you find any such cases.\n",
      "\n",
      "\n",
      "[12:43:38] WARNING: /Users/runner/work/xgboost/xgboost/python-package/build/temp.macosx-11.0-arm64-3.8/xgboost/src/learner.cc:1350: Empty dataset at worker: 0\n",
      "[12:43:38] WARNING: /Users/runner/work/xgboost/xgboost/python-package/build/temp.macosx-11.0-arm64-3.8/xgboost/src/learner.cc:1350: Empty dataset at worker: 0\n",
      "[0]\ttrain-mlogloss:2.80280\teval-mlogloss:nan\n",
      "[12:44:38] WARNING: /Users/runner/work/xgboost/xgboost/python-package/build/temp.macosx-11.0-arm64-3.8/xgboost/src/learner.cc:1350: Empty dataset at worker: 0\n",
      "[12:44:38] WARNING: /Users/runner/work/xgboost/xgboost/python-package/build/temp.macosx-11.0-arm64-3.8/xgboost/src/learner.cc:1350: Empty dataset at worker: 0\n",
      "[1]\ttrain-mlogloss:2.63132\teval-mlogloss:nan\n",
      "[12:45:40] WARNING: /Users/runner/work/xgboost/xgboost/python-package/build/temp.macosx-11.0-arm64-3.8/xgboost/src/learner.cc:1350: Empty dataset at worker: 0\n",
      "[12:45:40] WARNING: /Users/runner/work/xgboost/xgboost/python-package/build/temp.macosx-11.0-arm64-3.8/xgboost/src/learner.cc:1350: Empty dataset at worker: 0\n",
      "[2]\ttrain-mlogloss:2.50474\teval-mlogloss:nan\n",
      "[12:46:38] WARNING: /Users/runner/work/xgboost/xgboost/python-package/build/temp.macosx-11.0-arm64-3.8/xgboost/src/learner.cc:1350: Empty dataset at worker: 0\n",
      "[12:46:38] WARNING: /Users/runner/work/xgboost/xgboost/python-package/build/temp.macosx-11.0-arm64-3.8/xgboost/src/learner.cc:1350: Empty dataset at worker: 0\n",
      "[3]\ttrain-mlogloss:2.40637\teval-mlogloss:nan\n",
      "[12:47:36] WARNING: /Users/runner/work/xgboost/xgboost/python-package/build/temp.macosx-11.0-arm64-3.8/xgboost/src/learner.cc:1350: Empty dataset at worker: 0\n",
      "[12:47:36] WARNING: /Users/runner/work/xgboost/xgboost/python-package/build/temp.macosx-11.0-arm64-3.8/xgboost/src/learner.cc:1350: Empty dataset at worker: 0\n",
      "[4]\ttrain-mlogloss:2.32872\teval-mlogloss:nan\n",
      "[12:48:33] WARNING: /Users/runner/work/xgboost/xgboost/python-package/build/temp.macosx-11.0-arm64-3.8/xgboost/src/learner.cc:1350: Empty dataset at worker: 0\n",
      "[12:48:33] WARNING: /Users/runner/work/xgboost/xgboost/python-package/build/temp.macosx-11.0-arm64-3.8/xgboost/src/learner.cc:1350: Empty dataset at worker: 0\n",
      "[5]\ttrain-mlogloss:2.26151\teval-mlogloss:nan\n",
      "[12:49:32] WARNING: /Users/runner/work/xgboost/xgboost/python-package/build/temp.macosx-11.0-arm64-3.8/xgboost/src/learner.cc:1350: Empty dataset at worker: 0\n",
      "[12:49:32] WARNING: /Users/runner/work/xgboost/xgboost/python-package/build/temp.macosx-11.0-arm64-3.8/xgboost/src/learner.cc:1350: Empty dataset at worker: 0\n",
      "[6]\ttrain-mlogloss:2.20213\teval-mlogloss:nan\n",
      "[12:50:30] WARNING: /Users/runner/work/xgboost/xgboost/python-package/build/temp.macosx-11.0-arm64-3.8/xgboost/src/learner.cc:1350: Empty dataset at worker: 0\n",
      "[12:50:30] WARNING: /Users/runner/work/xgboost/xgboost/python-package/build/temp.macosx-11.0-arm64-3.8/xgboost/src/learner.cc:1350: Empty dataset at worker: 0\n",
      "[7]\ttrain-mlogloss:2.15011\teval-mlogloss:nan\n",
      "[12:51:28] WARNING: /Users/runner/work/xgboost/xgboost/python-package/build/temp.macosx-11.0-arm64-3.8/xgboost/src/learner.cc:1350: Empty dataset at worker: 0\n",
      "[12:51:28] WARNING: /Users/runner/work/xgboost/xgboost/python-package/build/temp.macosx-11.0-arm64-3.8/xgboost/src/learner.cc:1350: Empty dataset at worker: 0\n",
      "[8]\ttrain-mlogloss:2.10524\teval-mlogloss:nan\n",
      "[12:52:29] WARNING: /Users/runner/work/xgboost/xgboost/python-package/build/temp.macosx-11.0-arm64-3.8/xgboost/src/learner.cc:1350: Empty dataset at worker: 0\n",
      "[12:52:29] WARNING: /Users/runner/work/xgboost/xgboost/python-package/build/temp.macosx-11.0-arm64-3.8/xgboost/src/learner.cc:1350: Empty dataset at worker: 0\n",
      "[9]\ttrain-mlogloss:2.06471\teval-mlogloss:nan\n",
      "[12:53:31] WARNING: /Users/runner/work/xgboost/xgboost/python-package/build/temp.macosx-11.0-arm64-3.8/xgboost/src/learner.cc:1350: Empty dataset at worker: 0\n",
      "[12:53:31] WARNING: /Users/runner/work/xgboost/xgboost/python-package/build/temp.macosx-11.0-arm64-3.8/xgboost/src/learner.cc:1350: Empty dataset at worker: 0\n",
      "[10]\ttrain-mlogloss:2.02817\teval-mlogloss:nan\n",
      "[12:54:38] WARNING: /Users/runner/work/xgboost/xgboost/python-package/build/temp.macosx-11.0-arm64-3.8/xgboost/src/learner.cc:1350: Empty dataset at worker: 0\n",
      "[12:54:38] WARNING: /Users/runner/work/xgboost/xgboost/python-package/build/temp.macosx-11.0-arm64-3.8/xgboost/src/learner.cc:1350: Empty dataset at worker: 0\n",
      "[11]\ttrain-mlogloss:1.99596\teval-mlogloss:nan\n",
      "[12:55:37] WARNING: /Users/runner/work/xgboost/xgboost/python-package/build/temp.macosx-11.0-arm64-3.8/xgboost/src/learner.cc:1350: Empty dataset at worker: 0\n",
      "[12:55:37] WARNING: /Users/runner/work/xgboost/xgboost/python-package/build/temp.macosx-11.0-arm64-3.8/xgboost/src/learner.cc:1350: Empty dataset at worker: 0\n",
      "[12]\ttrain-mlogloss:1.96661\teval-mlogloss:nan\n",
      "[12:56:40] WARNING: /Users/runner/work/xgboost/xgboost/python-package/build/temp.macosx-11.0-arm64-3.8/xgboost/src/learner.cc:1350: Empty dataset at worker: 0\n",
      "[12:56:40] WARNING: /Users/runner/work/xgboost/xgboost/python-package/build/temp.macosx-11.0-arm64-3.8/xgboost/src/learner.cc:1350: Empty dataset at worker: 0\n",
      "[13]\ttrain-mlogloss:1.94008\teval-mlogloss:nan\n",
      "[12:57:37] WARNING: /Users/runner/work/xgboost/xgboost/python-package/build/temp.macosx-11.0-arm64-3.8/xgboost/src/learner.cc:1350: Empty dataset at worker: 0\n",
      "[12:57:37] WARNING: /Users/runner/work/xgboost/xgboost/python-package/build/temp.macosx-11.0-arm64-3.8/xgboost/src/learner.cc:1350: Empty dataset at worker: 0\n",
      "[14]\ttrain-mlogloss:1.91716\teval-mlogloss:nan\n",
      "[12:58:35] WARNING: /Users/runner/work/xgboost/xgboost/python-package/build/temp.macosx-11.0-arm64-3.8/xgboost/src/learner.cc:1350: Empty dataset at worker: 0\n",
      "[12:58:35] WARNING: /Users/runner/work/xgboost/xgboost/python-package/build/temp.macosx-11.0-arm64-3.8/xgboost/src/learner.cc:1350: Empty dataset at worker: 0\n",
      "[15]\ttrain-mlogloss:1.89529\teval-mlogloss:nan\n",
      "[12:59:32] WARNING: /Users/runner/work/xgboost/xgboost/python-package/build/temp.macosx-11.0-arm64-3.8/xgboost/src/learner.cc:1350: Empty dataset at worker: 0\n",
      "[12:59:32] WARNING: /Users/runner/work/xgboost/xgboost/python-package/build/temp.macosx-11.0-arm64-3.8/xgboost/src/learner.cc:1350: Empty dataset at worker: 0\n",
      "[16]\ttrain-mlogloss:1.87560\teval-mlogloss:nan\n",
      "[13:00:30] WARNING: /Users/runner/work/xgboost/xgboost/python-package/build/temp.macosx-11.0-arm64-3.8/xgboost/src/learner.cc:1350: Empty dataset at worker: 0\n",
      "[13:00:30] WARNING: /Users/runner/work/xgboost/xgboost/python-package/build/temp.macosx-11.0-arm64-3.8/xgboost/src/learner.cc:1350: Empty dataset at worker: 0\n",
      "[17]\ttrain-mlogloss:1.85786\teval-mlogloss:nan\n",
      "[13:01:28] WARNING: /Users/runner/work/xgboost/xgboost/python-package/build/temp.macosx-11.0-arm64-3.8/xgboost/src/learner.cc:1350: Empty dataset at worker: 0\n",
      "[13:01:28] WARNING: /Users/runner/work/xgboost/xgboost/python-package/build/temp.macosx-11.0-arm64-3.8/xgboost/src/learner.cc:1350: Empty dataset at worker: 0\n",
      "[18]\ttrain-mlogloss:1.84201\teval-mlogloss:nan\n",
      "[13:02:28] WARNING: /Users/runner/work/xgboost/xgboost/python-package/build/temp.macosx-11.0-arm64-3.8/xgboost/src/learner.cc:1350: Empty dataset at worker: 0\n",
      "[13:02:28] WARNING: /Users/runner/work/xgboost/xgboost/python-package/build/temp.macosx-11.0-arm64-3.8/xgboost/src/learner.cc:1350: Empty dataset at worker: 0\n",
      "[19]\ttrain-mlogloss:1.82687\teval-mlogloss:nan\n",
      "[13:03:25] WARNING: /Users/runner/work/xgboost/xgboost/python-package/build/temp.macosx-11.0-arm64-3.8/xgboost/src/learner.cc:1350: Empty dataset at worker: 0\n",
      "[13:03:25] WARNING: /Users/runner/work/xgboost/xgboost/python-package/build/temp.macosx-11.0-arm64-3.8/xgboost/src/learner.cc:1350: Empty dataset at worker: 0\n",
      "[20]\ttrain-mlogloss:1.81313\teval-mlogloss:nan\n"
     ]
    }
   ],
   "source": [
    "param = {\n",
    "    \"booster\": \"gbtree\",\n",
    "    \"max_depth\": 8,\n",
    "    \"nthread\": 4,\n",
    "    \"num_class\": len(prods),\n",
    "    \"objective\": \"multi:softprob\",\n",
    "    \"silent\": 1,\n",
    "    \"eval_metric\": \"mlogloss\",\n",
    "    \"eta\": 0.1,\n",
    "    \"min_child_weight\": 10,\n",
    "    \"colsample_bytree\": 0.8,\n",
    "    \"colsample_bylevel\": 0.9,\n",
    "    \"seed\": 2018,\n",
    "}\n",
    "\n",
    "X_trn = XY_trn[features].values\n",
    "Y_trn = XY_trn[\"y\"].values\n",
    "dtrn = xgb.DMatrix(X_trn, label=Y_trn, feature_names=features)\n",
    "\n",
    "X_vld = XY_vld[features].values\n",
    "Y_vld = XY_vld[\"y\"].values\n",
    "dvld = xgb.DMatrix(X_vld, label=Y_vld, feature_names=features)\n",
    "\n",
    "watch_list = [(dtrn, \"train\"), (dvld, \"eval\")]\n",
    "model = xgb.train(param, dtrn, num_boost_round=1000, evals=watch_list, early_stopping_rounds=20)"
   ]
  },
  {
   "cell_type": "code",
   "execution_count": 88,
   "metadata": {},
   "outputs": [],
   "source": [
    "import pickle\n",
    "pickle.dump(model, open(\"xgb.baseline.pkl\", \"wb\"))"
   ]
  },
  {
   "cell_type": "code",
   "execution_count": 18,
   "metadata": {},
   "outputs": [],
   "source": [
    "best_ntree_limit = model.best_ntree_limit"
   ]
  },
  {
   "cell_type": "code",
   "execution_count": null,
   "metadata": {},
   "outputs": [
    {
     "data": {
      "text/html": [
       "<div>\n",
       "<style scoped>\n",
       "    .dataframe tbody tr th:only-of-type {\n",
       "        vertical-align: middle;\n",
       "    }\n",
       "\n",
       "    .dataframe tbody tr th {\n",
       "        vertical-align: top;\n",
       "    }\n",
       "\n",
       "    .dataframe thead th {\n",
       "        text-align: right;\n",
       "    }\n",
       "</style>\n",
       "<table border=\"1\" class=\"dataframe\">\n",
       "  <thead>\n",
       "    <tr style=\"text-align: right;\">\n",
       "      <th></th>\n",
       "      <th>fecha_dato</th>\n",
       "      <th>ncodpers</th>\n",
       "      <th>ind_empleado</th>\n",
       "      <th>pais_residencia</th>\n",
       "      <th>sexo</th>\n",
       "      <th>age</th>\n",
       "      <th>fecha_alta</th>\n",
       "      <th>ind_nuevo</th>\n",
       "      <th>antiguedad</th>\n",
       "      <th>indrel</th>\n",
       "      <th>...</th>\n",
       "      <th>ind_hip_fin_ult1</th>\n",
       "      <th>ind_plan_fin_ult1</th>\n",
       "      <th>ind_pres_fin_ult1</th>\n",
       "      <th>ind_reca_fin_ult1</th>\n",
       "      <th>ind_tjcr_fin_ult1</th>\n",
       "      <th>ind_valo_fin_ult1</th>\n",
       "      <th>ind_viv_fin_ult1</th>\n",
       "      <th>ind_nomina_ult1</th>\n",
       "      <th>ind_nom_pens_ult1</th>\n",
       "      <th>ind_recibo_ult1</th>\n",
       "    </tr>\n",
       "  </thead>\n",
       "  <tbody>\n",
       "    <tr>\n",
       "      <th>0</th>\n",
       "      <td>2015-01-28</td>\n",
       "      <td>1375586</td>\n",
       "      <td>N</td>\n",
       "      <td>ES</td>\n",
       "      <td>H</td>\n",
       "      <td>35</td>\n",
       "      <td>2015-01-12</td>\n",
       "      <td>0.0</td>\n",
       "      <td>6</td>\n",
       "      <td>1.0</td>\n",
       "      <td>...</td>\n",
       "      <td>0</td>\n",
       "      <td>0</td>\n",
       "      <td>0</td>\n",
       "      <td>0</td>\n",
       "      <td>0</td>\n",
       "      <td>0</td>\n",
       "      <td>0</td>\n",
       "      <td>0</td>\n",
       "      <td>0</td>\n",
       "      <td>0</td>\n",
       "    </tr>\n",
       "    <tr>\n",
       "      <th>1</th>\n",
       "      <td>2015-01-28</td>\n",
       "      <td>1050611</td>\n",
       "      <td>N</td>\n",
       "      <td>ES</td>\n",
       "      <td>V</td>\n",
       "      <td>23</td>\n",
       "      <td>2012-08-10</td>\n",
       "      <td>0.0</td>\n",
       "      <td>35</td>\n",
       "      <td>1.0</td>\n",
       "      <td>...</td>\n",
       "      <td>0</td>\n",
       "      <td>0</td>\n",
       "      <td>0</td>\n",
       "      <td>0</td>\n",
       "      <td>0</td>\n",
       "      <td>0</td>\n",
       "      <td>0</td>\n",
       "      <td>0</td>\n",
       "      <td>0</td>\n",
       "      <td>0</td>\n",
       "    </tr>\n",
       "    <tr>\n",
       "      <th>2</th>\n",
       "      <td>2015-01-28</td>\n",
       "      <td>1050612</td>\n",
       "      <td>N</td>\n",
       "      <td>ES</td>\n",
       "      <td>V</td>\n",
       "      <td>23</td>\n",
       "      <td>2012-08-10</td>\n",
       "      <td>0.0</td>\n",
       "      <td>35</td>\n",
       "      <td>1.0</td>\n",
       "      <td>...</td>\n",
       "      <td>0</td>\n",
       "      <td>0</td>\n",
       "      <td>0</td>\n",
       "      <td>0</td>\n",
       "      <td>0</td>\n",
       "      <td>0</td>\n",
       "      <td>0</td>\n",
       "      <td>0</td>\n",
       "      <td>0</td>\n",
       "      <td>0</td>\n",
       "    </tr>\n",
       "    <tr>\n",
       "      <th>3</th>\n",
       "      <td>2015-01-28</td>\n",
       "      <td>1050613</td>\n",
       "      <td>N</td>\n",
       "      <td>ES</td>\n",
       "      <td>H</td>\n",
       "      <td>22</td>\n",
       "      <td>2012-08-10</td>\n",
       "      <td>0.0</td>\n",
       "      <td>35</td>\n",
       "      <td>1.0</td>\n",
       "      <td>...</td>\n",
       "      <td>0</td>\n",
       "      <td>0</td>\n",
       "      <td>0</td>\n",
       "      <td>0</td>\n",
       "      <td>0</td>\n",
       "      <td>0</td>\n",
       "      <td>0</td>\n",
       "      <td>0</td>\n",
       "      <td>0</td>\n",
       "      <td>0</td>\n",
       "    </tr>\n",
       "    <tr>\n",
       "      <th>4</th>\n",
       "      <td>2015-01-28</td>\n",
       "      <td>1050614</td>\n",
       "      <td>N</td>\n",
       "      <td>ES</td>\n",
       "      <td>V</td>\n",
       "      <td>23</td>\n",
       "      <td>2012-08-10</td>\n",
       "      <td>0.0</td>\n",
       "      <td>35</td>\n",
       "      <td>1.0</td>\n",
       "      <td>...</td>\n",
       "      <td>0</td>\n",
       "      <td>0</td>\n",
       "      <td>0</td>\n",
       "      <td>0</td>\n",
       "      <td>0</td>\n",
       "      <td>0</td>\n",
       "      <td>0</td>\n",
       "      <td>0</td>\n",
       "      <td>0</td>\n",
       "      <td>0</td>\n",
       "    </tr>\n",
       "  </tbody>\n",
       "</table>\n",
       "<p>5 rows × 48 columns</p>\n",
       "</div>"
      ],
      "text/plain": [
       "   fecha_dato  ncodpers ind_empleado pais_residencia sexo  age  fecha_alta  \\\n",
       "0  2015-01-28   1375586            N              ES    H   35  2015-01-12   \n",
       "1  2015-01-28   1050611            N              ES    V   23  2012-08-10   \n",
       "2  2015-01-28   1050612            N              ES    V   23  2012-08-10   \n",
       "3  2015-01-28   1050613            N              ES    H   22  2012-08-10   \n",
       "4  2015-01-28   1050614            N              ES    V   23  2012-08-10   \n",
       "\n",
       "   ind_nuevo antiguedad  indrel  ... ind_hip_fin_ult1 ind_plan_fin_ult1  \\\n",
       "0        0.0          6     1.0  ...                0                 0   \n",
       "1        0.0         35     1.0  ...                0                 0   \n",
       "2        0.0         35     1.0  ...                0                 0   \n",
       "3        0.0         35     1.0  ...                0                 0   \n",
       "4        0.0         35     1.0  ...                0                 0   \n",
       "\n",
       "  ind_pres_fin_ult1 ind_reca_fin_ult1 ind_tjcr_fin_ult1 ind_valo_fin_ult1  \\\n",
       "0                 0                 0                 0                 0   \n",
       "1                 0                 0                 0                 0   \n",
       "2                 0                 0                 0                 0   \n",
       "3                 0                 0                 0                 0   \n",
       "4                 0                 0                 0                 0   \n",
       "\n",
       "  ind_viv_fin_ult1 ind_nomina_ult1  ind_nom_pens_ult1  ind_recibo_ult1  \n",
       "0                0               0                  0                0  \n",
       "1                0               0                  0                0  \n",
       "2                0               0                  0                0  \n",
       "3                0               0                  0                0  \n",
       "4                0               0                  0                0  \n",
       "\n",
       "[5 rows x 48 columns]"
      ]
     },
     "metadata": {},
     "output_type": "display_data"
    }
   ],
   "source": [
    "display(trn.head())"
   ]
  },
  {
   "cell_type": "code",
   "execution_count": null,
   "metadata": {},
   "outputs": [],
   "source": [
    "# MAP@7 評価\n",
    "vld = trn[trn[\"fecha_dato\"] == VLD_DATE]\n",
    "ncodpers_vld = vld[\"ncodpers\"].values\n",
    "\n",
    "for prod in prods:\n",
    "    prev = prod + \"_prev\"\n",
    "    padd = prod + \"_add\"\n",
    "    vld[padd] = vld[prod] - vld[prev]\n",
    "add_vld = vld[[prod + \"_add\" for prod in prods]].values\n",
    "add_vld_list = [list() for i in range(len(ncodpers_vld))]"
   ]
  },
  {
   "cell_type": "code",
   "execution_count": null,
   "metadata": {},
   "outputs": [],
   "source": [
    "count_vld = 0\n",
    "for ni in range(len(ncodpers_vld)):\n",
    "    for pj in range(len(prods)):\n",
    "        if add_vld[ni, pj] > 0:\n",
    "            add_vld_list[ni].append(prod)\n",
    "            count_vld += 1"
   ]
  },
  {
   "cell_type": "code",
   "execution_count": 19,
   "metadata": {},
   "outputs": [
    {
     "name": "stdout",
     "output_type": "stream",
     "text": [
      "[13:04:59] WARNING: /Users/runner/work/xgboost/xgboost/python-package/build/temp.macosx-11.0-arm64-3.8/xgboost/src/learner.cc:627: \n",
      "Parameters: { \"silent\" } might not be used.\n",
      "\n",
      "  This could be a false alarm, with some parameters getting used by language bindings but\n",
      "  then being mistakenly passed down to XGBoost core, or some parameter actually being used\n",
      "  but getting flagged wrongly here. Please open an issue if you find any such cases.\n",
      "\n",
      "\n",
      "[0]\ttrain-mlogloss:2.80280\n"
     ]
    }
   ],
   "source": [
    "# 提出用モデル\n",
    "X_all = XY[features].values\n",
    "Y_all = XY[\"y\"].values\n",
    "dall = xgb.DMatrix(X_all, label=Y_all, feature_names=features)\n",
    "watch_list = [(dall, \"train\")]\n",
    "best_ntree_limit = int(best_ntree_limit * (len(XY_trn) + len(XY_vld)) / len(XY_trn))\n",
    "\n",
    "model = xgb.train(param, dall, num_boost_round=best_ntree_limit, evals=watch_list)"
   ]
  },
  {
   "cell_type": "code",
   "execution_count": 20,
   "metadata": {},
   "outputs": [
    {
     "name": "stdout",
     "output_type": "stream",
     "text": [
      "変数の重要度\n",
      "('canal_entrada', 493.0)\n",
      "('nomprov', 467.0)\n",
      "('fecha_alta_month', 411.0)\n",
      "('fecha_alta_year', 292.0)\n",
      "('sexo', 152.0)\n",
      "('segmento', 116.0)\n",
      "('ind_actividad_cliente', 84.0)\n",
      "('indext', 74.0)\n",
      "('ind_nuevo', 64.0)\n",
      "('pais_residencia', 59.0)\n",
      "('tiprel_1mes', 43.0)\n",
      "('ind_empleado', 25.0)\n",
      "('indfall', 16.0)\n",
      "('indresi', 6.0)\n",
      "('indrel_1mes', 6.0)\n",
      "('conyuemp', 2.0)\n"
     ]
    }
   ],
   "source": [
    "print(\"変数の重要度\")\n",
    "for kv in sorted([(k,v) for k,v in model.get_fscore().items()], key=lambda kv:kv[1], reverse=True):\n",
    "    print(kv)"
   ]
  },
  {
   "cell_type": "code",
   "execution_count": 22,
   "metadata": {},
   "outputs": [
    {
     "name": "stderr",
     "output_type": "stream",
     "text": [
      "/Users/aoisato/.pyenv/versions/3.9.4/lib/python3.9/site-packages/xgboost/core.py:90: UserWarning: ntree_limit is deprecated, use `iteration_range` or model slicing instead.\n",
      "  warnings.warn(\n"
     ]
    }
   ],
   "source": [
    "X_tst = tst[features].values\n",
    "dtst = xgb.DMatrix(X_tst, feature_names=features)\n",
    "preds_tst = model.predict(dtst, ntree_limit=best_ntree_limit)\n",
    "ncodpers_tst = tst[\"ncodpers\"].values\n",
    "preds_tst = preds_tst - tst[[prod + \"_prev\" for prod in prods]]"
   ]
  },
  {
   "cell_type": "code",
   "execution_count": 25,
   "metadata": {},
   "outputs": [],
   "source": [
    "# 提出ファイル\n",
    "submit_file = open(\"xgb.baseline.2015-06-28\", \"w\")\n",
    "submit_file.write(\"ncodpers.added_products\")\n",
    "for ncodper, pred in zip(ncodpers_tst, preds_tst):\n",
    "    y_prods = [(y, p, ip) for y,p,ip in zip(pred, prods, range(len(prods)))]\n",
    "    y_prods = sorted(y_prods, key=lambda a: a[0], reverse=True)[:7]\n",
    "    y_prods = [p for y,p,ip in y_prods]\n",
    "    submit_file.write(\"{},{}\\n\".format(int(ncodper), \" \".join(y_prods)))"
   ]
  }
 ],
 "metadata": {
  "interpreter": {
   "hash": "989a530189ec79b69b64ffeffa0e3a627b9289ae463a6727c53a09b2b1fcc69a"
  },
  "kernelspec": {
   "display_name": "Python 3.9.4 64-bit ('3.9.4')",
   "language": "python",
   "name": "python3"
  },
  "language_info": {
   "codemirror_mode": {
    "name": "ipython",
    "version": 3
   },
   "file_extension": ".py",
   "mimetype": "text/x-python",
   "name": "python",
   "nbconvert_exporter": "python",
   "pygments_lexer": "ipython3",
   "version": "3.9.4"
  },
  "orig_nbformat": 4
 },
 "nbformat": 4,
 "nbformat_minor": 2
}
